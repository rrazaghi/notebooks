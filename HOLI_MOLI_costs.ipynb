{
 "cells": [
  {
   "cell_type": "code",
   "execution_count": 82,
   "metadata": {},
   "outputs": [],
   "source": [
    "import numpy as np\n",
    "import itertools\n"
   ]
  },
  {
   "cell_type": "markdown",
   "metadata": {},
   "source": [
    "### Let's calculate the number each base occurs in all possible kmers with a alphabets:"
   ]
  },
  {
   "cell_type": "code",
   "execution_count": 83,
   "metadata": {},
   "outputs": [
    {
     "data": {
      "text/plain": [
       "80"
      ]
     },
     "execution_count": 83,
     "metadata": {},
     "output_type": "execute_result"
    }
   ],
   "source": [
    "def base_occurance(a='NX',k=5):\n",
    "    kmers_arr = [''.join(i) for i in itertools.product(a, repeat = k)]  # saving all the kmers with the input alphabet in an array\n",
    "    count = \"\".join(kmers_arr).count(a[0]) # since all the bases will have equal representation, we can calculate the counts only for one base\n",
    "    return count\n",
    "\n",
    "base_occurance(a='NX',k=5) # for example in a 5mer with N and X bases each base occurs 80 times"
   ]
  },
  {
   "cell_type": "markdown",
   "metadata": {},
   "source": [
    "### let's build a dictionary based on the costs in the following format: <br>\n",
    "  ####  {\"product_info\" : [ cost for 5' phos , cost for (A,C,G,T,N) , [Cost for mod(s) -> can be more than one] ] , ...}"
   ]
  },
  {
   "cell_type": "code",
   "execution_count": 85,
   "metadata": {},
   "outputs": [],
   "source": [
    "costs = {\"Trilink_5umole_5mc\" : [236,40,[284]],\n",
    "         \"Trilink_5umole_5mc_4su\" : [236,40,[284,504]],\n",
    "        \"Trlink_10umole_5mc_4su\" : [315,52.5,[672,378]],\n",
    "        \"IDT_100nmole_5mc\" : [20,7.5,[50]],\n",
    "        }"
   ]
  },
  {
   "cell_type": "markdown",
   "metadata": {},
   "source": [
    "### Now let's calculate the total costs for these MOLI sequences:"
   ]
  },
  {
   "cell_type": "code",
   "execution_count": 88,
   "metadata": {},
   "outputs": [],
   "source": [
    "def calc(costs, kmer=5, length=40):\n",
    "    for k,v in costs.items():\n",
    "        common_bases = ((length - kmer) * v[1]) + v[0]# calculating the costs for bases other than the kmer (this includes the 5' phos costs) for 1 oligo\n",
    "        num_mods = len(v[2])  # number of modification kinds from the cost dict\n",
    "        kmer_base_counts = base_occurance(a=''.join(choice(ascii_uppercase) for i in range(num_mods)),k=kmer)\n",
    "        num_all_sequences = (1+num_mods) ** kmer\n",
    "        total_cost = (num_all_sequences * common_bases)+ (kmer_base_counts * sum(v[2])) # add all the costs together\n",
    "        print(\"Total cost for \" + k + \" is $\" + str(total_cost) + \"for \" + str(num_all_sequences) + \" sequences\")\n",
    "        \n",
    "        "
   ]
  },
  {
   "cell_type": "code",
   "execution_count": 89,
   "metadata": {},
   "outputs": [
    {
     "name": "stdout",
     "output_type": "stream",
     "text": [
      "Total cost for Trilink_5umole_5mc is $66572for 32 sequences\n",
      "Total cost for Trilink_5umole_5mc_4su is $620828for 243 sequences\n",
      "Total cost for Trlink_10umole_5mc_4su is $734632.5for 243 sequences\n",
      "Total cost for IDT_100nmole_5mc is $11690.0for 32 sequences\n"
     ]
    }
   ],
   "source": [
    "calc(costs,kmer=5,length=50)"
   ]
  },
  {
   "cell_type": "code",
   "execution_count": null,
   "metadata": {},
   "outputs": [],
   "source": []
  }
 ],
 "metadata": {
  "kernelspec": {
   "display_name": "Python 3",
   "language": "python",
   "name": "python3"
  },
  "language_info": {
   "codemirror_mode": {
    "name": "ipython",
    "version": 3
   },
   "file_extension": ".py",
   "mimetype": "text/x-python",
   "name": "python",
   "nbconvert_exporter": "python",
   "pygments_lexer": "ipython3",
   "version": "3.6.3"
  }
 },
 "nbformat": 4,
 "nbformat_minor": 2
}
